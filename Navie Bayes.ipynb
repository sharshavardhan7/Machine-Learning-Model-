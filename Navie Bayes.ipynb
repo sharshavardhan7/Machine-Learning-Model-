{
 "cells": [
  {
   "cell_type": "code",
   "execution_count": 1,
   "id": "b5635189-2786-4b22-a12c-d246c5c80af2",
   "metadata": {},
   "outputs": [],
   "source": [
    "import numpy as np\n",
    "import pandas as pd\n",
    "import matplotlib.pyplot as plt\n",
    "import seaborn as sns\n",
    "from sklearn.model_selection import train_test_split"
   ]
  },
  {
   "cell_type": "code",
   "execution_count": 2,
   "id": "fa64a2e6-3ec3-4be6-b21e-9038e55a7886",
   "metadata": {},
   "outputs": [],
   "source": [
    "data = pd.read_csv(\"disease_diagnosis.csv\")"
   ]
  },
  {
   "cell_type": "code",
   "execution_count": 3,
   "id": "5194a1bc-07dc-4213-b17b-23dab75d46ec",
   "metadata": {},
   "outputs": [
    {
     "data": {
      "text/html": [
       "<div>\n",
       "<style scoped>\n",
       "    .dataframe tbody tr th:only-of-type {\n",
       "        vertical-align: middle;\n",
       "    }\n",
       "\n",
       "    .dataframe tbody tr th {\n",
       "        vertical-align: top;\n",
       "    }\n",
       "\n",
       "    .dataframe thead th {\n",
       "        text-align: right;\n",
       "    }\n",
       "</style>\n",
       "<table border=\"1\" class=\"dataframe\">\n",
       "  <thead>\n",
       "    <tr style=\"text-align: right;\">\n",
       "      <th></th>\n",
       "      <th>Patient_ID</th>\n",
       "      <th>Age</th>\n",
       "      <th>Gender</th>\n",
       "      <th>Symptom_1</th>\n",
       "      <th>Symptom_2</th>\n",
       "      <th>Symptom_3</th>\n",
       "      <th>Heart_Rate_bpm</th>\n",
       "      <th>Body_Temperature_C</th>\n",
       "      <th>Blood_Pressure_mmHg</th>\n",
       "      <th>Oxygen_Saturation_%</th>\n",
       "      <th>Diagnosis</th>\n",
       "      <th>Severity</th>\n",
       "      <th>Treatment_Plan</th>\n",
       "    </tr>\n",
       "  </thead>\n",
       "  <tbody>\n",
       "    <tr>\n",
       "      <th>0</th>\n",
       "      <td>1</td>\n",
       "      <td>74</td>\n",
       "      <td>Male</td>\n",
       "      <td>Fatigue</td>\n",
       "      <td>Sore throat</td>\n",
       "      <td>Fever</td>\n",
       "      <td>69</td>\n",
       "      <td>39.4</td>\n",
       "      <td>132/91</td>\n",
       "      <td>94</td>\n",
       "      <td>Flu</td>\n",
       "      <td>Moderate</td>\n",
       "      <td>Medication and rest</td>\n",
       "    </tr>\n",
       "    <tr>\n",
       "      <th>1</th>\n",
       "      <td>2</td>\n",
       "      <td>66</td>\n",
       "      <td>Female</td>\n",
       "      <td>Sore throat</td>\n",
       "      <td>Fatigue</td>\n",
       "      <td>Cough</td>\n",
       "      <td>95</td>\n",
       "      <td>39.0</td>\n",
       "      <td>174/98</td>\n",
       "      <td>98</td>\n",
       "      <td>Healthy</td>\n",
       "      <td>Mild</td>\n",
       "      <td>Rest and fluids</td>\n",
       "    </tr>\n",
       "    <tr>\n",
       "      <th>2</th>\n",
       "      <td>3</td>\n",
       "      <td>32</td>\n",
       "      <td>Male</td>\n",
       "      <td>Body ache</td>\n",
       "      <td>Sore throat</td>\n",
       "      <td>Fatigue</td>\n",
       "      <td>77</td>\n",
       "      <td>36.8</td>\n",
       "      <td>136/60</td>\n",
       "      <td>96</td>\n",
       "      <td>Healthy</td>\n",
       "      <td>Mild</td>\n",
       "      <td>Rest and fluids</td>\n",
       "    </tr>\n",
       "    <tr>\n",
       "      <th>3</th>\n",
       "      <td>4</td>\n",
       "      <td>21</td>\n",
       "      <td>Female</td>\n",
       "      <td>Shortness of breath</td>\n",
       "      <td>Headache</td>\n",
       "      <td>Cough</td>\n",
       "      <td>72</td>\n",
       "      <td>38.9</td>\n",
       "      <td>147/82</td>\n",
       "      <td>99</td>\n",
       "      <td>Healthy</td>\n",
       "      <td>Mild</td>\n",
       "      <td>Rest and fluids</td>\n",
       "    </tr>\n",
       "    <tr>\n",
       "      <th>4</th>\n",
       "      <td>5</td>\n",
       "      <td>53</td>\n",
       "      <td>Male</td>\n",
       "      <td>Runny nose</td>\n",
       "      <td>Sore throat</td>\n",
       "      <td>Fatigue</td>\n",
       "      <td>100</td>\n",
       "      <td>36.6</td>\n",
       "      <td>109/106</td>\n",
       "      <td>92</td>\n",
       "      <td>Healthy</td>\n",
       "      <td>Mild</td>\n",
       "      <td>Rest and fluids</td>\n",
       "    </tr>\n",
       "  </tbody>\n",
       "</table>\n",
       "</div>"
      ],
      "text/plain": [
       "   Patient_ID  Age  Gender            Symptom_1    Symptom_2 Symptom_3  \\\n",
       "0           1   74    Male              Fatigue  Sore throat     Fever   \n",
       "1           2   66  Female          Sore throat      Fatigue     Cough   \n",
       "2           3   32    Male            Body ache  Sore throat   Fatigue   \n",
       "3           4   21  Female  Shortness of breath     Headache     Cough   \n",
       "4           5   53    Male           Runny nose  Sore throat   Fatigue   \n",
       "\n",
       "   Heart_Rate_bpm  Body_Temperature_C Blood_Pressure_mmHg  \\\n",
       "0              69                39.4              132/91   \n",
       "1              95                39.0              174/98   \n",
       "2              77                36.8              136/60   \n",
       "3              72                38.9              147/82   \n",
       "4             100                36.6             109/106   \n",
       "\n",
       "   Oxygen_Saturation_% Diagnosis  Severity       Treatment_Plan  \n",
       "0                   94       Flu  Moderate  Medication and rest  \n",
       "1                   98   Healthy      Mild      Rest and fluids  \n",
       "2                   96   Healthy      Mild      Rest and fluids  \n",
       "3                   99   Healthy      Mild      Rest and fluids  \n",
       "4                   92   Healthy      Mild      Rest and fluids  "
      ]
     },
     "execution_count": 3,
     "metadata": {},
     "output_type": "execute_result"
    }
   ],
   "source": [
    "data.head(5)"
   ]
  },
  {
   "cell_type": "code",
   "execution_count": 4,
   "id": "c76785e9-f0ab-40c6-b8be-c34e2942bba7",
   "metadata": {},
   "outputs": [
    {
     "data": {
      "text/plain": [
       "(2000, 13)"
      ]
     },
     "execution_count": 4,
     "metadata": {},
     "output_type": "execute_result"
    }
   ],
   "source": [
    "data.shape"
   ]
  },
  {
   "cell_type": "code",
   "execution_count": 5,
   "id": "6de5ffd4-8d59-4b00-89e0-86d4d2ea9a55",
   "metadata": {},
   "outputs": [
    {
     "name": "stdout",
     "output_type": "stream",
     "text": [
      "<class 'pandas.core.frame.DataFrame'>\n",
      "RangeIndex: 2000 entries, 0 to 1999\n",
      "Data columns (total 13 columns):\n",
      " #   Column               Non-Null Count  Dtype  \n",
      "---  ------               --------------  -----  \n",
      " 0   Patient_ID           2000 non-null   int64  \n",
      " 1   Age                  2000 non-null   int64  \n",
      " 2   Gender               2000 non-null   object \n",
      " 3   Symptom_1            2000 non-null   object \n",
      " 4   Symptom_2            2000 non-null   object \n",
      " 5   Symptom_3            2000 non-null   object \n",
      " 6   Heart_Rate_bpm       2000 non-null   int64  \n",
      " 7   Body_Temperature_C   2000 non-null   float64\n",
      " 8   Blood_Pressure_mmHg  2000 non-null   object \n",
      " 9   Oxygen_Saturation_%  2000 non-null   int64  \n",
      " 10  Diagnosis            2000 non-null   object \n",
      " 11  Severity             2000 non-null   object \n",
      " 12  Treatment_Plan       2000 non-null   object \n",
      "dtypes: float64(1), int64(4), object(8)\n",
      "memory usage: 203.3+ KB\n"
     ]
    }
   ],
   "source": [
    "data.info()"
   ]
  },
  {
   "cell_type": "code",
   "execution_count": 6,
   "id": "82f06085-e653-49a5-9803-8b4b356c5da4",
   "metadata": {},
   "outputs": [
    {
     "data": {
      "text/html": [
       "<div>\n",
       "<style scoped>\n",
       "    .dataframe tbody tr th:only-of-type {\n",
       "        vertical-align: middle;\n",
       "    }\n",
       "\n",
       "    .dataframe tbody tr th {\n",
       "        vertical-align: top;\n",
       "    }\n",
       "\n",
       "    .dataframe thead th {\n",
       "        text-align: right;\n",
       "    }\n",
       "</style>\n",
       "<table border=\"1\" class=\"dataframe\">\n",
       "  <thead>\n",
       "    <tr style=\"text-align: right;\">\n",
       "      <th></th>\n",
       "      <th>Patient_ID</th>\n",
       "      <th>Age</th>\n",
       "      <th>Heart_Rate_bpm</th>\n",
       "      <th>Body_Temperature_C</th>\n",
       "      <th>Oxygen_Saturation_%</th>\n",
       "    </tr>\n",
       "  </thead>\n",
       "  <tbody>\n",
       "    <tr>\n",
       "      <th>count</th>\n",
       "      <td>2000.000000</td>\n",
       "      <td>2000.000000</td>\n",
       "      <td>2000.000000</td>\n",
       "      <td>2000.000000</td>\n",
       "      <td>2000.000000</td>\n",
       "    </tr>\n",
       "    <tr>\n",
       "      <th>mean</th>\n",
       "      <td>1000.500000</td>\n",
       "      <td>48.285000</td>\n",
       "      <td>89.439000</td>\n",
       "      <td>37.741000</td>\n",
       "      <td>94.493500</td>\n",
       "    </tr>\n",
       "    <tr>\n",
       "      <th>std</th>\n",
       "      <td>577.494589</td>\n",
       "      <td>17.422616</td>\n",
       "      <td>17.139608</td>\n",
       "      <td>1.309835</td>\n",
       "      <td>2.861827</td>\n",
       "    </tr>\n",
       "    <tr>\n",
       "      <th>min</th>\n",
       "      <td>1.000000</td>\n",
       "      <td>18.000000</td>\n",
       "      <td>60.000000</td>\n",
       "      <td>35.500000</td>\n",
       "      <td>90.000000</td>\n",
       "    </tr>\n",
       "    <tr>\n",
       "      <th>25%</th>\n",
       "      <td>500.750000</td>\n",
       "      <td>33.000000</td>\n",
       "      <td>75.000000</td>\n",
       "      <td>36.600000</td>\n",
       "      <td>92.000000</td>\n",
       "    </tr>\n",
       "    <tr>\n",
       "      <th>50%</th>\n",
       "      <td>1000.500000</td>\n",
       "      <td>49.000000</td>\n",
       "      <td>89.000000</td>\n",
       "      <td>37.700000</td>\n",
       "      <td>95.000000</td>\n",
       "    </tr>\n",
       "    <tr>\n",
       "      <th>75%</th>\n",
       "      <td>1500.250000</td>\n",
       "      <td>63.000000</td>\n",
       "      <td>104.000000</td>\n",
       "      <td>38.900000</td>\n",
       "      <td>97.000000</td>\n",
       "    </tr>\n",
       "    <tr>\n",
       "      <th>max</th>\n",
       "      <td>2000.000000</td>\n",
       "      <td>79.000000</td>\n",
       "      <td>119.000000</td>\n",
       "      <td>40.000000</td>\n",
       "      <td>99.000000</td>\n",
       "    </tr>\n",
       "  </tbody>\n",
       "</table>\n",
       "</div>"
      ],
      "text/plain": [
       "        Patient_ID          Age  Heart_Rate_bpm  Body_Temperature_C  \\\n",
       "count  2000.000000  2000.000000     2000.000000         2000.000000   \n",
       "mean   1000.500000    48.285000       89.439000           37.741000   \n",
       "std     577.494589    17.422616       17.139608            1.309835   \n",
       "min       1.000000    18.000000       60.000000           35.500000   \n",
       "25%     500.750000    33.000000       75.000000           36.600000   \n",
       "50%    1000.500000    49.000000       89.000000           37.700000   \n",
       "75%    1500.250000    63.000000      104.000000           38.900000   \n",
       "max    2000.000000    79.000000      119.000000           40.000000   \n",
       "\n",
       "       Oxygen_Saturation_%  \n",
       "count          2000.000000  \n",
       "mean             94.493500  \n",
       "std               2.861827  \n",
       "min              90.000000  \n",
       "25%              92.000000  \n",
       "50%              95.000000  \n",
       "75%              97.000000  \n",
       "max              99.000000  "
      ]
     },
     "execution_count": 6,
     "metadata": {},
     "output_type": "execute_result"
    }
   ],
   "source": [
    "data.describe()"
   ]
  },
  {
   "cell_type": "code",
   "execution_count": 7,
   "id": "7367f401-af98-4a54-a144-f3451d0bb646",
   "metadata": {},
   "outputs": [
    {
     "data": {
      "text/plain": [
       "Patient_ID             0\n",
       "Age                    0\n",
       "Gender                 0\n",
       "Symptom_1              0\n",
       "Symptom_2              0\n",
       "Symptom_3              0\n",
       "Heart_Rate_bpm         0\n",
       "Body_Temperature_C     0\n",
       "Blood_Pressure_mmHg    0\n",
       "Oxygen_Saturation_%    0\n",
       "Diagnosis              0\n",
       "Severity               0\n",
       "Treatment_Plan         0\n",
       "dtype: int64"
      ]
     },
     "execution_count": 7,
     "metadata": {},
     "output_type": "execute_result"
    }
   ],
   "source": [
    "data.isnull().sum()"
   ]
  },
  {
   "cell_type": "code",
   "execution_count": 9,
   "id": "1133acc2-75f2-4bdd-9c72-6758fecab70b",
   "metadata": {},
   "outputs": [
    {
     "data": {
      "text/plain": [
       "np.int64(0)"
      ]
     },
     "execution_count": 9,
     "metadata": {},
     "output_type": "execute_result"
    }
   ],
   "source": [
    "data.duplicated().sum()"
   ]
  },
  {
   "cell_type": "code",
   "execution_count": 11,
   "id": "b6ce6f8c-3ee3-4d48-8641-57ae56fb749c",
   "metadata": {},
   "outputs": [
    {
     "data": {
      "text/plain": [
       "<Axes: ylabel='Age'>"
      ]
     },
     "execution_count": 11,
     "metadata": {},
     "output_type": "execute_result"
    },
    {
     "data": {
      "image/png": "[encoded data removed]",
      "text/plain": [
       "<Figure size 640x480 with 1 Axes>"
      ]
     },
     "metadata": {},
     "output_type": "display_data"
    }
   ],
   "source": [
    "print(\"There is no outliers detection from the Age Feaature\")\n",
    "sns.boxplot(data[\"Age\"])"
   ]
  },
  {
   "cell_type": "code",
   "execution_count": 12,
   "id": "caf8c425-ea7a-4c16-b12f-11130a17d86b",
   "metadata": {},
   "outputs": [],
   "source": [
    "# here from the data set we are taking the diagonsis as output and here we are preforming the Label Encoding\n",
    "from sklearn.preprocessing import OneHotEncoder, LabelEncoder\n",
    "\n",
    "lb = LabelEncoder()\n",
    "y = lb.fit_transform(data[\"Diagnosis\"])"
   ]
  },
  {
   "cell_type": "code",
   "execution_count": 15,
   "id": "85cac043-8189-4d09-95cc-9d34579eb1ad",
   "metadata": {},
   "outputs": [],
   "source": [
    "# here we are dropoping the Diagnisis feature \n",
    "x = data.drop([\"Diagnosis\",\"Patient_ID\"],axis = 1)"
   ]
  },
  {
   "cell_type": "code",
   "execution_count": 16,
   "id": "513f86ae-3ee4-4629-b3ef-6980b2500f32",
   "metadata": {},
   "outputs": [
    {
     "data": {
      "text/html": [
       "<div>\n",
       "<style scoped>\n",
       "    .dataframe tbody tr th:only-of-type {\n",
       "        vertical-align: middle;\n",
       "    }\n",
       "\n",
       "    .dataframe tbody tr th {\n",
       "        vertical-align: top;\n",
       "    }\n",
       "\n",
       "    .dataframe thead th {\n",
       "        text-align: right;\n",
       "    }\n",
       "</style>\n",
       "<table border=\"1\" class=\"dataframe\">\n",
       "  <thead>\n",
       "    <tr style=\"text-align: right;\">\n",
       "      <th></th>\n",
       "      <th>Patient_ID</th>\n",
       "      <th>Age</th>\n",
       "      <th>Gender</th>\n",
       "      <th>Symptom_1</th>\n",
       "      <th>Symptom_2</th>\n",
       "      <th>Symptom_3</th>\n",
       "      <th>Heart_Rate_bpm</th>\n",
       "      <th>Body_Temperature_C</th>\n",
       "      <th>Blood_Pressure_mmHg</th>\n",
       "      <th>Oxygen_Saturation_%</th>\n",
       "      <th>Diagnosis</th>\n",
       "      <th>Severity</th>\n",
       "      <th>Treatment_Plan</th>\n",
       "    </tr>\n",
       "  </thead>\n",
       "  <tbody>\n",
       "    <tr>\n",
       "      <th>0</th>\n",
       "      <td>1</td>\n",
       "      <td>74</td>\n",
       "      <td>Male</td>\n",
       "      <td>Fatigue</td>\n",
       "      <td>Sore throat</td>\n",
       "      <td>Fever</td>\n",
       "      <td>69</td>\n",
       "      <td>39.4</td>\n",
       "      <td>132/91</td>\n",
       "      <td>94</td>\n",
       "      <td>Flu</td>\n",
       "      <td>Moderate</td>\n",
       "      <td>Medication and rest</td>\n",
       "    </tr>\n",
       "    <tr>\n",
       "      <th>1</th>\n",
       "      <td>2</td>\n",
       "      <td>66</td>\n",
       "      <td>Female</td>\n",
       "      <td>Sore throat</td>\n",
       "      <td>Fatigue</td>\n",
       "      <td>Cough</td>\n",
       "      <td>95</td>\n",
       "      <td>39.0</td>\n",
       "      <td>174/98</td>\n",
       "      <td>98</td>\n",
       "      <td>Healthy</td>\n",
       "      <td>Mild</td>\n",
       "      <td>Rest and fluids</td>\n",
       "    </tr>\n",
       "    <tr>\n",
       "      <th>2</th>\n",
       "      <td>3</td>\n",
       "      <td>32</td>\n",
       "      <td>Male</td>\n",
       "      <td>Body ache</td>\n",
       "      <td>Sore throat</td>\n",
       "      <td>Fatigue</td>\n",
       "      <td>77</td>\n",
       "      <td>36.8</td>\n",
       "      <td>136/60</td>\n",
       "      <td>96</td>\n",
       "      <td>Healthy</td>\n",
       "      <td>Mild</td>\n",
       "      <td>Rest and fluids</td>\n",
       "    </tr>\n",
       "    <tr>\n",
       "      <th>3</th>\n",
       "      <td>4</td>\n",
       "      <td>21</td>\n",
       "      <td>Female</td>\n",
       "      <td>Shortness of breath</td>\n",
       "      <td>Headache</td>\n",
       "      <td>Cough</td>\n",
       "      <td>72</td>\n",
       "      <td>38.9</td>\n",
       "      <td>147/82</td>\n",
       "      <td>99</td>\n",
       "      <td>Healthy</td>\n",
       "      <td>Mild</td>\n",
       "      <td>Rest and fluids</td>\n",
       "    </tr>\n",
       "    <tr>\n",
       "      <th>4</th>\n",
       "      <td>5</td>\n",
       "      <td>53</td>\n",
       "      <td>Male</td>\n",
       "      <td>Runny nose</td>\n",
       "      <td>Sore throat</td>\n",
       "      <td>Fatigue</td>\n",
       "      <td>100</td>\n",
       "      <td>36.6</td>\n",
       "      <td>109/106</td>\n",
       "      <td>92</td>\n",
       "      <td>Healthy</td>\n",
       "      <td>Mild</td>\n",
       "      <td>Rest and fluids</td>\n",
       "    </tr>\n",
       "  </tbody>\n",
       "</table>\n",
       "</div>"
      ],
      "text/plain": [
       "   Patient_ID  Age  Gender            Symptom_1    Symptom_2 Symptom_3  \\\n",
       "0           1   74    Male              Fatigue  Sore throat     Fever   \n",
       "1           2   66  Female          Sore throat      Fatigue     Cough   \n",
       "2           3   32    Male            Body ache  Sore throat   Fatigue   \n",
       "3           4   21  Female  Shortness of breath     Headache     Cough   \n",
       "4           5   53    Male           Runny nose  Sore throat   Fatigue   \n",
       "\n",
       "   Heart_Rate_bpm  Body_Temperature_C Blood_Pressure_mmHg  \\\n",
       "0              69                39.4              132/91   \n",
       "1              95                39.0              174/98   \n",
       "2              77                36.8              136/60   \n",
       "3              72                38.9              147/82   \n",
       "4             100                36.6             109/106   \n",
       "\n",
       "   Oxygen_Saturation_% Diagnosis  Severity       Treatment_Plan  \n",
       "0                   94       Flu  Moderate  Medication and rest  \n",
       "1                   98   Healthy      Mild      Rest and fluids  \n",
       "2                   96   Healthy      Mild      Rest and fluids  \n",
       "3                   99   Healthy      Mild      Rest and fluids  \n",
       "4                   92   Healthy      Mild      Rest and fluids  "
      ]
     },
     "execution_count": 16,
     "metadata": {},
     "output_type": "execute_result"
    }
   ],
   "source": [
    "data.head()"
   ]
  },
  {
   "cell_type": "code",
   "execution_count": 17,
   "id": "6dd34c11-7551-4e00-8292-ab4fcd513aeb",
   "metadata": {},
   "outputs": [],
   "source": [
    "# here we are creating the separate varibles such as like numerical as well as categorical values\n",
    "\n",
    "categorical_cols = [\"Gender\", \"Symptom_1\", \"Symptom_2\", \"Symptom_3\", \"Severity\", \"Treatment_Plan\"]\n",
    "numerical_cols = [\"Age\", \"Heart_Rate_bpm\", \"Body_Temperature_C\", \"Oxygen_Saturation_%\"]"
   ]
  },
  {
   "cell_type": "code",
   "execution_count": 19,
   "id": "8c306c25-7a53-4422-995d-6ad207ed88bc",
   "metadata": {},
   "outputs": [],
   "source": [
    "# here we are using Column Transformer for handling onehotencoder, labelencoding in one stage\n",
    "from sklearn.compose import ColumnTransformer\n",
    "preprocessor = ColumnTransformer([\n",
    "    (\"cat\", OneHotEncoder(handle_unknown=\"ignore\"), categorical_cols),\n",
    "    (\"num\", \"passthrough\", numerical_cols)\n",
    "])"
   ]
  },
  {
   "cell_type": "code",
   "execution_count": 20,
   "id": "0dea0724-6140-4913-ad1f-0fe61e4f3bf6",
   "metadata": {},
   "outputs": [],
   "source": [
    "x_preprocessor = preprocessor.fit_transform(x)"
   ]
  },
  {
   "cell_type": "code",
   "execution_count": 33,
   "id": "60802d36-0d8c-4d13-9a92-4585b28e62d0",
   "metadata": {},
   "outputs": [],
   "source": [
    "xtrain,xtest,ytrain,ytest = train_test_split(x_preprocessor,y, test_size = 0.2,random_state = 42)"
   ]
  },
  {
   "cell_type": "code",
   "execution_count": 41,
   "id": "6151d5c9-84cf-477d-84bc-6d3c3c9aa0bd",
   "metadata": {},
   "outputs": [],
   "source": [
    "from sklearn.naive_bayes import GaussianNB\n",
    "\n",
    "# here we are preforming the naive bayes alogrthim \n",
    "nb = GaussianNB()\n",
    "nb.fit(xtrain.toarray() if hasattr(xtrain, \"toarray\") else xtrain, ytrain)\n",
    "\n",
    "# Predict\n",
    "ypred = nb.predict(xtest.toarray() if hasattr(xtest, \"toarray\") else xtest)"
   ]
  },
  {
   "cell_type": "code",
   "execution_count": 42,
   "id": "14e35cd1-f933-4be7-9c7a-420335bcb71b",
   "metadata": {},
   "outputs": [
    {
     "name": "stdout",
     "output_type": "stream",
     "text": [
      "The Accuracy Score is : 0.945\n"
     ]
    }
   ],
   "source": [
    "from sklearn.metrics import classification_report, accuracy_score\n",
    "print(\"The Accuracy Score is :\",accuracy_score(ytest,ypred))"
   ]
  },
  {
   "cell_type": "raw",
   "id": "07427fd3-23f9-43e4-9232-bcbea78025d6",
   "metadata": {},
   "source": [
    "The C"
   ]
  },
  {
   "cell_type": "code",
   "execution_count": 43,
   "id": "52d02334-ef59-449a-b278-761a5002a058",
   "metadata": {},
   "outputs": [
    {
     "name": "stdout",
     "output_type": "stream",
     "text": [
      "The Classification Report is:               precision    recall  f1-score   support\n",
      "\n",
      "           0       0.97      0.95      0.96        64\n",
      "           1       0.75      0.62      0.68        29\n",
      "           2       1.00      1.00      1.00        58\n",
      "           3       0.95      0.97      0.96       238\n",
      "           4       0.75      0.82      0.78        11\n",
      "\n",
      "    accuracy                           0.94       400\n",
      "   macro avg       0.88      0.87      0.88       400\n",
      "weighted avg       0.94      0.94      0.94       400\n",
      "\n"
     ]
    }
   ],
   "source": [
    "print(\"The Classification Report is:\", classification_report(ytest,ypred))"
   ]
  }
 ],
 "metadata": {
  "kernelspec": {
   "display_name": "Python 3 (ipykernel)",
   "language": "python",
   "name": "python3"
  },
  "language_info": {
   "codemirror_mode": {
    "name": "ipython",
    "version": 3
   },
   "file_extension": ".py",
   "mimetype": "text/x-python",
   "name": "python",
   "nbconvert_exporter": "python",
   "pygments_lexer": "ipython3",
   "version": "3.13.5"
  }
 },
 "nbformat": 4,
 "nbformat_minor": 5
}
